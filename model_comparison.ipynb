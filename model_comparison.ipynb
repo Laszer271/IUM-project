{
 "cells": [
  {
   "cell_type": "code",
   "execution_count": 128,
   "metadata": {},
   "outputs": [],
   "source": [
    "import ast\n",
    "import re\n",
    "import pandas as pd\n",
    "import math\n",
    "import numpy as np"
   ]
  },
  {
   "cell_type": "code",
   "execution_count": 129,
   "metadata": {
    "id": "NZWd1YHPU-E9"
   },
   "outputs": [],
   "source": [
    "def read_data(path):\n",
    "    with open(path, 'r') as f:\n",
    "        lines = f.readlines() \n",
    "        \n",
    "    json_formatted = '['\n",
    "    for line in lines:\n",
    "        json_formatted += line + ','\n",
    "    json_formatted = json_formatted[:-1] + ']' \n",
    "    json_formatted = re.sub('null', 'None', json_formatted)\n",
    "    return ast.literal_eval(json_formatted)"
   ]
  },
  {
   "cell_type": "code",
   "execution_count": 130,
   "metadata": {
    "id": "JwSC_SzgVHrM"
   },
   "outputs": [],
   "source": [
    "drive = 'data/'\n",
    "\n",
    "df_products = pd.DataFrame(read_data(drive + 'products.jsonl'))\n",
    "df_sessions = pd.DataFrame(read_data(drive + 'sessions.jsonl'))\n",
    "df_users = pd.DataFrame(read_data(drive + 'users.jsonl'))"
   ]
  },
  {
   "cell_type": "code",
   "execution_count": 131,
   "metadata": {
    "id": "Wg9jNvgkVzZd"
   },
   "outputs": [],
   "source": [
    "df_sessions['timestamp'] = pd.to_datetime(df_sessions['timestamp'])"
   ]
  },
  {
   "cell_type": "code",
   "execution_count": 132,
   "metadata": {},
   "outputs": [],
   "source": [
    "df_sessions = df_sessions[df_sessions[\"product_id\"].notna()]"
   ]
  },
  {
   "cell_type": "code",
   "execution_count": 133,
   "metadata": {},
   "outputs": [
    {
     "name": "stdout",
     "output_type": "stream",
     "text": [
      "Ilość wierszy z nienullowym user_id: 88413\n",
      "Ilość wierszy z nullowym user_id: 4601\n",
      "Ilość wierszy z nienullowym user_id po poprawce: 92980\n",
      "Ilość wierszy z nullowym user_id po poprawce: 34\n",
      "Ilość wierszy po usunieciu wadliwych danych: 92980\n"
     ]
    }
   ],
   "source": [
    "print(\"Ilość wierszy z nienullowym user_id:\", df_sessions[df_sessions[\"user_id\"].notna()].shape[0])\n",
    "print(\"Ilość wierszy z nullowym user_id:\", df_sessions[df_sessions[\"user_id\"].isna()].shape[0])\n",
    "\n",
    "# https://stackoverflow.com/questions/46718178/dataframe-columns-to-key-value-dictionary-pair\n",
    "session_dict = df_sessions[df_sessions[\"user_id\"].notna()].set_index('session_id').to_dict()\n",
    "session_to_user_map = session_dict['user_id']\n",
    "\n",
    "for index, row in df_sessions.iterrows():\n",
    "    if row[\"session_id\"] in session_to_user_map and np.isnan(row[\"user_id\"]):\n",
    "        df_sessions.at[index, 'user_id'] = session_to_user_map[row[\"session_id\"]]\n",
    "\n",
    "print(\"Ilość wierszy z nienullowym user_id po poprawce:\", df_sessions[df_sessions[\"user_id\"].notna()].shape[0])\n",
    "print(\"Ilość wierszy z nullowym user_id po poprawce:\", df_sessions[df_sessions[\"user_id\"].isna()].shape[0])\n",
    "\n",
    "df_sessions = df_sessions[df_sessions[\"user_id\"].notna()]\n",
    "\n",
    "print(\"Ilość wierszy po usunieciu wadliwych danych:\", df_sessions.shape[0])"
   ]
  },
  {
   "cell_type": "code",
   "execution_count": 134,
   "metadata": {},
   "outputs": [
    {
     "data": {
      "text/plain": [
       "(92980, 10)"
      ]
     },
     "execution_count": 134,
     "metadata": {},
     "output_type": "execute_result"
    }
   ],
   "source": [
    "df = df_products.set_index('product_id')\n",
    "df = df_sessions.join(df, on='product_id')\n",
    "df['product_id'] = df['product_id'].astype(int)\n",
    "df.shape"
   ]
  },
  {
   "cell_type": "code",
   "execution_count": 135,
   "metadata": {},
   "outputs": [
    {
     "data": {
      "text/plain": [
       "(83919, 10)"
      ]
     },
     "execution_count": 135,
     "metadata": {},
     "output_type": "execute_result"
    }
   ],
   "source": [
    "df_viewed = df[df['event_type'] == 'VIEW_PRODUCT'].copy()\n",
    "df_viewed.shape\n",
    "#df_bought = df[df['event_type'] == 'BUY_PRODUCT'].copy()\n",
    "#assert(df_viewed.shape[0] + df_bought.shape[0] == df.shape[0])"
   ]
  },
  {
   "cell_type": "code",
   "execution_count": 136,
   "metadata": {},
   "outputs": [
    {
     "data": {
      "text/plain": [
       "(77102, 10)"
      ]
     },
     "execution_count": 136,
     "metadata": {},
     "output_type": "execute_result"
    }
   ],
   "source": [
    "df_viewed = df_viewed.drop_duplicates(subset=['session_id', 'product_id'])\n",
    "df_viewed.shape"
   ]
  },
  {
   "cell_type": "code",
   "execution_count": 137,
   "metadata": {},
   "outputs": [
    {
     "data": {
      "text/html": [
       "<div>\n",
       "<style scoped>\n",
       "    .dataframe tbody tr th:only-of-type {\n",
       "        vertical-align: middle;\n",
       "    }\n",
       "\n",
       "    .dataframe tbody tr th {\n",
       "        vertical-align: top;\n",
       "    }\n",
       "\n",
       "    .dataframe thead th {\n",
       "        text-align: right;\n",
       "    }\n",
       "</style>\n",
       "<table border=\"1\" class=\"dataframe\">\n",
       "  <thead>\n",
       "    <tr style=\"text-align: right;\">\n",
       "      <th></th>\n",
       "      <th>session_id</th>\n",
       "      <th>timestamp</th>\n",
       "      <th>user_id</th>\n",
       "      <th>product_id</th>\n",
       "      <th>event_type</th>\n",
       "      <th>offered_discount</th>\n",
       "      <th>purchase_id</th>\n",
       "      <th>product_name</th>\n",
       "      <th>category_path</th>\n",
       "      <th>price</th>\n",
       "    </tr>\n",
       "  </thead>\n",
       "  <tbody>\n",
       "    <tr>\n",
       "      <th>0</th>\n",
       "      <td>100001</td>\n",
       "      <td>2021-01-08 11:35:40</td>\n",
       "      <td>102.0</td>\n",
       "      <td>1276</td>\n",
       "      <td>VIEW_PRODUCT</td>\n",
       "      <td>15</td>\n",
       "      <td>NaN</td>\n",
       "      <td>Apple iPad mini 64GB</td>\n",
       "      <td>Komputery;Tablety i akcesoria;Tablety</td>\n",
       "      <td>1816.97</td>\n",
       "    </tr>\n",
       "    <tr>\n",
       "      <th>1</th>\n",
       "      <td>100001</td>\n",
       "      <td>2021-01-08 11:38:48</td>\n",
       "      <td>102.0</td>\n",
       "      <td>1277</td>\n",
       "      <td>VIEW_PRODUCT</td>\n",
       "      <td>15</td>\n",
       "      <td>NaN</td>\n",
       "      <td>Apple iPad mini 64GB 4G</td>\n",
       "      <td>Komputery;Tablety i akcesoria;Tablety</td>\n",
       "      <td>2317.02</td>\n",
       "    </tr>\n",
       "    <tr>\n",
       "      <th>4</th>\n",
       "      <td>100002</td>\n",
       "      <td>2021-01-05 18:08:21</td>\n",
       "      <td>102.0</td>\n",
       "      <td>1283</td>\n",
       "      <td>VIEW_PRODUCT</td>\n",
       "      <td>0</td>\n",
       "      <td>NaN</td>\n",
       "      <td>Okulary 3D PHILIPS PTA436/00</td>\n",
       "      <td>Sprzęt RTV;Video;Telewizory i akcesoria;Okular...</td>\n",
       "      <td>99.99</td>\n",
       "    </tr>\n",
       "    <tr>\n",
       "      <th>7</th>\n",
       "      <td>100003</td>\n",
       "      <td>2021-01-06 02:15:31</td>\n",
       "      <td>102.0</td>\n",
       "      <td>1075</td>\n",
       "      <td>VIEW_PRODUCT</td>\n",
       "      <td>0</td>\n",
       "      <td>NaN</td>\n",
       "      <td>Ricoh SG3110DN</td>\n",
       "      <td>Komputery;Drukarki i skanery;Biurowe urządzeni...</td>\n",
       "      <td>1998.14</td>\n",
       "    </tr>\n",
       "    <tr>\n",
       "      <th>8</th>\n",
       "      <td>100004</td>\n",
       "      <td>2021-01-03 23:18:34</td>\n",
       "      <td>102.0</td>\n",
       "      <td>1017</td>\n",
       "      <td>VIEW_PRODUCT</td>\n",
       "      <td>10</td>\n",
       "      <td>NaN</td>\n",
       "      <td>LCD Dell U2412M</td>\n",
       "      <td>Komputery;Monitory;Monitory LCD</td>\n",
       "      <td>399.00</td>\n",
       "    </tr>\n",
       "  </tbody>\n",
       "</table>\n",
       "</div>"
      ],
      "text/plain": [
       "   session_id           timestamp  user_id  product_id    event_type  \\\n",
       "0      100001 2021-01-08 11:35:40    102.0        1276  VIEW_PRODUCT   \n",
       "1      100001 2021-01-08 11:38:48    102.0        1277  VIEW_PRODUCT   \n",
       "4      100002 2021-01-05 18:08:21    102.0        1283  VIEW_PRODUCT   \n",
       "7      100003 2021-01-06 02:15:31    102.0        1075  VIEW_PRODUCT   \n",
       "8      100004 2021-01-03 23:18:34    102.0        1017  VIEW_PRODUCT   \n",
       "\n",
       "   offered_discount  purchase_id                  product_name  \\\n",
       "0                15          NaN          Apple iPad mini 64GB   \n",
       "1                15          NaN       Apple iPad mini 64GB 4G   \n",
       "4                 0          NaN  Okulary 3D PHILIPS PTA436/00   \n",
       "7                 0          NaN                Ricoh SG3110DN   \n",
       "8                10          NaN               LCD Dell U2412M   \n",
       "\n",
       "                                       category_path    price  \n",
       "0              Komputery;Tablety i akcesoria;Tablety  1816.97  \n",
       "1              Komputery;Tablety i akcesoria;Tablety  2317.02  \n",
       "4  Sprzęt RTV;Video;Telewizory i akcesoria;Okular...    99.99  \n",
       "7  Komputery;Drukarki i skanery;Biurowe urządzeni...  1998.14  \n",
       "8                    Komputery;Monitory;Monitory LCD   399.00  "
      ]
     },
     "execution_count": 137,
     "metadata": {},
     "output_type": "execute_result"
    }
   ],
   "source": [
    "df_viewed.head()"
   ]
  },
  {
   "cell_type": "code",
   "execution_count": 138,
   "metadata": {},
   "outputs": [],
   "source": [
    "def train_test_split(df, train_test_ratio):\n",
    "    df = df.copy()\n",
    "    sessions = df['session_id'].unique()\n",
    "    threshold = int(np.round(train_test_ratio * len(sessions)))\n",
    "    train_sessions = sessions[:threshold]\n",
    "    test_sessions = sessions[threshold:]\n",
    "    \n",
    "    df_train = df.loc[df['session_id'].isin(train_sessions)].copy()\n",
    "    train_categories = df_train['category_path'].unique()\n",
    "    df_test = df.loc[df['session_id'].isin(test_sessions)].copy()\n",
    "    list_test_x = []\n",
    "    list_test_y = []\n",
    "    for session in test_sessions:\n",
    "        df_temp = df_test.loc[df['session_id'] == session]\n",
    "        if len(df_test) >= 2 and df_temp.iloc[0]['category_path'] in train_categories:\n",
    "            x_test = df_temp.iloc[:-1].copy()\n",
    "            y_test = df_temp.iloc[-1]\n",
    "            list_test_x.append(x_test)\n",
    "            list_test_y.append(y_test)\n",
    "        \n",
    "    return df_train, pd.concat(list_test_x), pd.DataFrame(list_test_y)"
   ]
  },
  {
   "cell_type": "code",
   "execution_count": 139,
   "metadata": {},
   "outputs": [
    {
     "data": {
      "text/html": [
       "<div>\n",
       "<style scoped>\n",
       "    .dataframe tbody tr th:only-of-type {\n",
       "        vertical-align: middle;\n",
       "    }\n",
       "\n",
       "    .dataframe tbody tr th {\n",
       "        vertical-align: top;\n",
       "    }\n",
       "\n",
       "    .dataframe thead th {\n",
       "        text-align: right;\n",
       "    }\n",
       "</style>\n",
       "<table border=\"1\" class=\"dataframe\">\n",
       "  <thead>\n",
       "    <tr style=\"text-align: right;\">\n",
       "      <th></th>\n",
       "      <th>session_id</th>\n",
       "      <th>timestamp</th>\n",
       "      <th>user_id</th>\n",
       "      <th>product_id</th>\n",
       "      <th>event_type</th>\n",
       "      <th>offered_discount</th>\n",
       "      <th>purchase_id</th>\n",
       "      <th>product_name</th>\n",
       "      <th>category_path</th>\n",
       "      <th>price</th>\n",
       "    </tr>\n",
       "  </thead>\n",
       "  <tbody>\n",
       "    <tr>\n",
       "      <th>0</th>\n",
       "      <td>100001</td>\n",
       "      <td>2021-01-08 11:35:40</td>\n",
       "      <td>102.0</td>\n",
       "      <td>1276</td>\n",
       "      <td>VIEW_PRODUCT</td>\n",
       "      <td>15</td>\n",
       "      <td>NaN</td>\n",
       "      <td>Apple iPad mini 64GB</td>\n",
       "      <td>Komputery;Tablety i akcesoria;Tablety</td>\n",
       "      <td>1816.97</td>\n",
       "    </tr>\n",
       "    <tr>\n",
       "      <th>1</th>\n",
       "      <td>100001</td>\n",
       "      <td>2021-01-08 11:38:48</td>\n",
       "      <td>102.0</td>\n",
       "      <td>1277</td>\n",
       "      <td>VIEW_PRODUCT</td>\n",
       "      <td>15</td>\n",
       "      <td>NaN</td>\n",
       "      <td>Apple iPad mini 64GB 4G</td>\n",
       "      <td>Komputery;Tablety i akcesoria;Tablety</td>\n",
       "      <td>2317.02</td>\n",
       "    </tr>\n",
       "    <tr>\n",
       "      <th>4</th>\n",
       "      <td>100002</td>\n",
       "      <td>2021-01-05 18:08:21</td>\n",
       "      <td>102.0</td>\n",
       "      <td>1283</td>\n",
       "      <td>VIEW_PRODUCT</td>\n",
       "      <td>0</td>\n",
       "      <td>NaN</td>\n",
       "      <td>Okulary 3D PHILIPS PTA436/00</td>\n",
       "      <td>Sprzęt RTV;Video;Telewizory i akcesoria;Okular...</td>\n",
       "      <td>99.99</td>\n",
       "    </tr>\n",
       "    <tr>\n",
       "      <th>7</th>\n",
       "      <td>100003</td>\n",
       "      <td>2021-01-06 02:15:31</td>\n",
       "      <td>102.0</td>\n",
       "      <td>1075</td>\n",
       "      <td>VIEW_PRODUCT</td>\n",
       "      <td>0</td>\n",
       "      <td>NaN</td>\n",
       "      <td>Ricoh SG3110DN</td>\n",
       "      <td>Komputery;Drukarki i skanery;Biurowe urządzeni...</td>\n",
       "      <td>1998.14</td>\n",
       "    </tr>\n",
       "    <tr>\n",
       "      <th>8</th>\n",
       "      <td>100004</td>\n",
       "      <td>2021-01-03 23:18:34</td>\n",
       "      <td>102.0</td>\n",
       "      <td>1017</td>\n",
       "      <td>VIEW_PRODUCT</td>\n",
       "      <td>10</td>\n",
       "      <td>NaN</td>\n",
       "      <td>LCD Dell U2412M</td>\n",
       "      <td>Komputery;Monitory;Monitory LCD</td>\n",
       "      <td>399.00</td>\n",
       "    </tr>\n",
       "  </tbody>\n",
       "</table>\n",
       "</div>"
      ],
      "text/plain": [
       "   session_id           timestamp  user_id  product_id    event_type  \\\n",
       "0      100001 2021-01-08 11:35:40    102.0        1276  VIEW_PRODUCT   \n",
       "1      100001 2021-01-08 11:38:48    102.0        1277  VIEW_PRODUCT   \n",
       "4      100002 2021-01-05 18:08:21    102.0        1283  VIEW_PRODUCT   \n",
       "7      100003 2021-01-06 02:15:31    102.0        1075  VIEW_PRODUCT   \n",
       "8      100004 2021-01-03 23:18:34    102.0        1017  VIEW_PRODUCT   \n",
       "\n",
       "   offered_discount  purchase_id                  product_name  \\\n",
       "0                15          NaN          Apple iPad mini 64GB   \n",
       "1                15          NaN       Apple iPad mini 64GB 4G   \n",
       "4                 0          NaN  Okulary 3D PHILIPS PTA436/00   \n",
       "7                 0          NaN                Ricoh SG3110DN   \n",
       "8                10          NaN               LCD Dell U2412M   \n",
       "\n",
       "                                       category_path    price  \n",
       "0              Komputery;Tablety i akcesoria;Tablety  1816.97  \n",
       "1              Komputery;Tablety i akcesoria;Tablety  2317.02  \n",
       "4  Sprzęt RTV;Video;Telewizory i akcesoria;Okular...    99.99  \n",
       "7  Komputery;Drukarki i skanery;Biurowe urządzeni...  1998.14  \n",
       "8                    Komputery;Monitory;Monitory LCD   399.00  "
      ]
     },
     "execution_count": 139,
     "metadata": {},
     "output_type": "execute_result"
    }
   ],
   "source": [
    "df_train, df_test_x, df_test_y = train_test_split(df_viewed, 0.8)\n",
    "df_train.head()"
   ]
  },
  {
   "cell_type": "code",
   "execution_count": 140,
   "metadata": {},
   "outputs": [
    {
     "data": {
      "text/html": [
       "<div>\n",
       "<style scoped>\n",
       "    .dataframe tbody tr th:only-of-type {\n",
       "        vertical-align: middle;\n",
       "    }\n",
       "\n",
       "    .dataframe tbody tr th {\n",
       "        vertical-align: top;\n",
       "    }\n",
       "\n",
       "    .dataframe thead th {\n",
       "        text-align: right;\n",
       "    }\n",
       "</style>\n",
       "<table border=\"1\" class=\"dataframe\">\n",
       "  <thead>\n",
       "    <tr style=\"text-align: right;\">\n",
       "      <th></th>\n",
       "      <th>session_id</th>\n",
       "      <th>timestamp</th>\n",
       "      <th>user_id</th>\n",
       "      <th>product_id</th>\n",
       "      <th>event_type</th>\n",
       "      <th>offered_discount</th>\n",
       "      <th>purchase_id</th>\n",
       "      <th>product_name</th>\n",
       "      <th>category_path</th>\n",
       "      <th>price</th>\n",
       "    </tr>\n",
       "  </thead>\n",
       "  <tbody>\n",
       "    <tr>\n",
       "      <th>77636</th>\n",
       "      <td>108705</td>\n",
       "      <td>2021-01-03 16:25:49</td>\n",
       "      <td>262.0</td>\n",
       "      <td>1007</td>\n",
       "      <td>VIEW_PRODUCT</td>\n",
       "      <td>0</td>\n",
       "      <td>NaN</td>\n",
       "      <td>Dead Space 3 (Xbox 360)</td>\n",
       "      <td>Gry i konsole;Gry na konsole;Gry Xbox 360</td>\n",
       "      <td>89.99</td>\n",
       "    </tr>\n",
       "    <tr>\n",
       "      <th>77637</th>\n",
       "      <td>108705</td>\n",
       "      <td>2021-01-03 16:25:55</td>\n",
       "      <td>262.0</td>\n",
       "      <td>1019</td>\n",
       "      <td>VIEW_PRODUCT</td>\n",
       "      <td>0</td>\n",
       "      <td>NaN</td>\n",
       "      <td>GTA 4 (Xbox 360)</td>\n",
       "      <td>Gry i konsole;Gry na konsole;Gry Xbox 360</td>\n",
       "      <td>109.99</td>\n",
       "    </tr>\n",
       "    <tr>\n",
       "      <th>77638</th>\n",
       "      <td>108705</td>\n",
       "      <td>2021-01-03 16:28:57</td>\n",
       "      <td>262.0</td>\n",
       "      <td>1314</td>\n",
       "      <td>VIEW_PRODUCT</td>\n",
       "      <td>0</td>\n",
       "      <td>NaN</td>\n",
       "      <td>Assassin&amp;#39;s Creed (Xbox 360)</td>\n",
       "      <td>Gry i konsole;Gry na konsole;Gry Xbox 360</td>\n",
       "      <td>49.99</td>\n",
       "    </tr>\n",
       "    <tr>\n",
       "      <th>77639</th>\n",
       "      <td>108705</td>\n",
       "      <td>2021-01-03 16:31:41</td>\n",
       "      <td>262.0</td>\n",
       "      <td>1029</td>\n",
       "      <td>VIEW_PRODUCT</td>\n",
       "      <td>0</td>\n",
       "      <td>NaN</td>\n",
       "      <td>Tom Clancy&amp;#39;s Rainbow Six Vegas 2 (Xbox 360)</td>\n",
       "      <td>Gry i konsole;Gry na konsole;Gry Xbox 360</td>\n",
       "      <td>49.99</td>\n",
       "    </tr>\n",
       "    <tr>\n",
       "      <th>77640</th>\n",
       "      <td>108705</td>\n",
       "      <td>2021-01-03 16:32:01</td>\n",
       "      <td>262.0</td>\n",
       "      <td>1016</td>\n",
       "      <td>VIEW_PRODUCT</td>\n",
       "      <td>0</td>\n",
       "      <td>NaN</td>\n",
       "      <td>Rayman Origins (Xbox 360)</td>\n",
       "      <td>Gry i konsole;Gry na konsole;Gry Xbox 360</td>\n",
       "      <td>69.00</td>\n",
       "    </tr>\n",
       "  </tbody>\n",
       "</table>\n",
       "</div>"
      ],
      "text/plain": [
       "       session_id           timestamp  user_id  product_id    event_type  \\\n",
       "77636      108705 2021-01-03 16:25:49    262.0        1007  VIEW_PRODUCT   \n",
       "77637      108705 2021-01-03 16:25:55    262.0        1019  VIEW_PRODUCT   \n",
       "77638      108705 2021-01-03 16:28:57    262.0        1314  VIEW_PRODUCT   \n",
       "77639      108705 2021-01-03 16:31:41    262.0        1029  VIEW_PRODUCT   \n",
       "77640      108705 2021-01-03 16:32:01    262.0        1016  VIEW_PRODUCT   \n",
       "\n",
       "       offered_discount  purchase_id  \\\n",
       "77636                 0          NaN   \n",
       "77637                 0          NaN   \n",
       "77638                 0          NaN   \n",
       "77639                 0          NaN   \n",
       "77640                 0          NaN   \n",
       "\n",
       "                                          product_name  \\\n",
       "77636                          Dead Space 3 (Xbox 360)   \n",
       "77637                                 GTA 4 (Xbox 360)   \n",
       "77638                  Assassin&#39;s Creed (Xbox 360)   \n",
       "77639  Tom Clancy&#39;s Rainbow Six Vegas 2 (Xbox 360)   \n",
       "77640                        Rayman Origins (Xbox 360)   \n",
       "\n",
       "                                   category_path   price  \n",
       "77636  Gry i konsole;Gry na konsole;Gry Xbox 360   89.99  \n",
       "77637  Gry i konsole;Gry na konsole;Gry Xbox 360  109.99  \n",
       "77638  Gry i konsole;Gry na konsole;Gry Xbox 360   49.99  \n",
       "77639  Gry i konsole;Gry na konsole;Gry Xbox 360   49.99  \n",
       "77640  Gry i konsole;Gry na konsole;Gry Xbox 360   69.00  "
      ]
     },
     "execution_count": 140,
     "metadata": {},
     "output_type": "execute_result"
    }
   ],
   "source": [
    "df_test_x.head()"
   ]
  },
  {
   "cell_type": "code",
   "execution_count": 141,
   "metadata": {},
   "outputs": [
    {
     "data": {
      "text/html": [
       "<div>\n",
       "<style scoped>\n",
       "    .dataframe tbody tr th:only-of-type {\n",
       "        vertical-align: middle;\n",
       "    }\n",
       "\n",
       "    .dataframe tbody tr th {\n",
       "        vertical-align: top;\n",
       "    }\n",
       "\n",
       "    .dataframe thead th {\n",
       "        text-align: right;\n",
       "    }\n",
       "</style>\n",
       "<table border=\"1\" class=\"dataframe\">\n",
       "  <thead>\n",
       "    <tr style=\"text-align: right;\">\n",
       "      <th></th>\n",
       "      <th>session_id</th>\n",
       "      <th>timestamp</th>\n",
       "      <th>user_id</th>\n",
       "      <th>product_id</th>\n",
       "      <th>event_type</th>\n",
       "      <th>offered_discount</th>\n",
       "      <th>purchase_id</th>\n",
       "      <th>product_name</th>\n",
       "      <th>category_path</th>\n",
       "      <th>price</th>\n",
       "    </tr>\n",
       "  </thead>\n",
       "  <tbody>\n",
       "    <tr>\n",
       "      <th>77653</th>\n",
       "      <td>108705</td>\n",
       "      <td>2021-01-03 17:15:27</td>\n",
       "      <td>262.0</td>\n",
       "      <td>1279</td>\n",
       "      <td>VIEW_PRODUCT</td>\n",
       "      <td>0</td>\n",
       "      <td>NaN</td>\n",
       "      <td>Assassin&amp;#39;s Creed 3 (Xbox 360)</td>\n",
       "      <td>Gry i konsole;Gry na konsole;Gry Xbox 360</td>\n",
       "      <td>49.99</td>\n",
       "    </tr>\n",
       "    <tr>\n",
       "      <th>77656</th>\n",
       "      <td>108706</td>\n",
       "      <td>2021-01-01 08:24:19</td>\n",
       "      <td>262.0</td>\n",
       "      <td>1318</td>\n",
       "      <td>VIEW_PRODUCT</td>\n",
       "      <td>0</td>\n",
       "      <td>NaN</td>\n",
       "      <td>Plantronics Savi W710</td>\n",
       "      <td>Sprzęt RTV;Audio;Słuchawki</td>\n",
       "      <td>553.00</td>\n",
       "    </tr>\n",
       "    <tr>\n",
       "      <th>77659</th>\n",
       "      <td>108707</td>\n",
       "      <td>2021-01-03 08:33:09</td>\n",
       "      <td>262.0</td>\n",
       "      <td>1281</td>\n",
       "      <td>VIEW_PRODUCT</td>\n",
       "      <td>20</td>\n",
       "      <td>NaN</td>\n",
       "      <td>Manta MM266</td>\n",
       "      <td>Sprzęt RTV;Przenośne audio i video;Odtwarzacze...</td>\n",
       "      <td>64.80</td>\n",
       "    </tr>\n",
       "    <tr>\n",
       "      <th>77668</th>\n",
       "      <td>108708</td>\n",
       "      <td>2021-01-04 16:32:11</td>\n",
       "      <td>262.0</td>\n",
       "      <td>1043</td>\n",
       "      <td>VIEW_PRODUCT</td>\n",
       "      <td>0</td>\n",
       "      <td>NaN</td>\n",
       "      <td>Fight Night Champion (PS3)</td>\n",
       "      <td>Gry i konsole;Gry na konsole;Gry PlayStation3</td>\n",
       "      <td>109.00</td>\n",
       "    </tr>\n",
       "    <tr>\n",
       "      <th>77672</th>\n",
       "      <td>108709</td>\n",
       "      <td>2021-01-07 15:52:10</td>\n",
       "      <td>262.0</td>\n",
       "      <td>1233</td>\n",
       "      <td>VIEW_PRODUCT</td>\n",
       "      <td>0</td>\n",
       "      <td>NaN</td>\n",
       "      <td>Manta DVD064</td>\n",
       "      <td>Sprzęt RTV;Video;Odtwarzacze DVD</td>\n",
       "      <td>109.00</td>\n",
       "    </tr>\n",
       "  </tbody>\n",
       "</table>\n",
       "</div>"
      ],
      "text/plain": [
       "       session_id           timestamp  user_id  product_id    event_type  \\\n",
       "77653      108705 2021-01-03 17:15:27    262.0        1279  VIEW_PRODUCT   \n",
       "77656      108706 2021-01-01 08:24:19    262.0        1318  VIEW_PRODUCT   \n",
       "77659      108707 2021-01-03 08:33:09    262.0        1281  VIEW_PRODUCT   \n",
       "77668      108708 2021-01-04 16:32:11    262.0        1043  VIEW_PRODUCT   \n",
       "77672      108709 2021-01-07 15:52:10    262.0        1233  VIEW_PRODUCT   \n",
       "\n",
       "       offered_discount  purchase_id                       product_name  \\\n",
       "77653                 0          NaN  Assassin&#39;s Creed 3 (Xbox 360)   \n",
       "77656                 0          NaN              Plantronics Savi W710   \n",
       "77659                20          NaN                        Manta MM266   \n",
       "77668                 0          NaN         Fight Night Champion (PS3)   \n",
       "77672                 0          NaN                       Manta DVD064   \n",
       "\n",
       "                                           category_path   price  \n",
       "77653          Gry i konsole;Gry na konsole;Gry Xbox 360   49.99  \n",
       "77656                         Sprzęt RTV;Audio;Słuchawki  553.00  \n",
       "77659  Sprzęt RTV;Przenośne audio i video;Odtwarzacze...   64.80  \n",
       "77668      Gry i konsole;Gry na konsole;Gry PlayStation3  109.00  \n",
       "77672                   Sprzęt RTV;Video;Odtwarzacze DVD  109.00  "
      ]
     },
     "execution_count": 141,
     "metadata": {},
     "output_type": "execute_result"
    }
   ],
   "source": [
    "df_test_y.head()"
   ]
  },
  {
   "cell_type": "code",
   "execution_count": 142,
   "metadata": {},
   "outputs": [],
   "source": [
    "import models"
   ]
  },
  {
   "cell_type": "code",
   "execution_count": 143,
   "metadata": {},
   "outputs": [],
   "source": [
    "baseline = models.BaselineModel()\n",
    "prob_model = models.ParametrizedModel()"
   ]
  },
  {
   "cell_type": "code",
   "execution_count": 144,
   "metadata": {},
   "outputs": [
    {
     "data": {
      "text/plain": [
       "<models.ParametrizedModel at 0x28f03b129e8>"
      ]
     },
     "execution_count": 144,
     "metadata": {},
     "output_type": "execute_result"
    }
   ],
   "source": [
    "baseline.fit(df_train)\n",
    "prob_model.fit(df_train)"
   ]
  },
  {
   "cell_type": "code",
   "execution_count": 145,
   "metadata": {},
   "outputs": [],
   "source": [
    "df_test_x['product_id'] = df_test_x['product_id'].astype(int)\n",
    "df_test_y['product_id'] = df_test_y['product_id'].astype(int)"
   ]
  },
  {
   "cell_type": "code",
   "execution_count": 152,
   "metadata": {},
   "outputs": [],
   "source": [
    "def measure_accuracy(x, y, model, n_to_predict=4):\n",
    "    x = x.copy()\n",
    "    sessions = x['session_id'].unique()\n",
    "    \n",
    "    preds_acc = []\n",
    "    for session in sessions:\n",
    "        x_temp = x.loc[x['session_id'] == session]\n",
    "        y_temp = y.loc[y['session_id'] == session].squeeze()\n",
    "        product_id = y_temp['product_id']\n",
    "        category = y_temp['category_path']\n",
    "        preds = model.predict(category, x_temp['product_id'], n_to_predict)\n",
    "        preds = list(preds)\n",
    "        preds_acc.append(product_id in preds)\n",
    "    \n",
    "    return np.mean(preds_acc)"
   ]
  },
  {
   "cell_type": "code",
   "execution_count": 153,
   "metadata": {},
   "outputs": [],
   "source": [
    "baseline_acc = measure_accuracy(df_test_x, df_test_y, baseline)\n",
    "prob_model_acc = measure_accuracy(df_test_x, df_test_y, prob_model)"
   ]
  },
  {
   "cell_type": "code",
   "execution_count": 154,
   "metadata": {},
   "outputs": [
    {
     "name": "stdout",
     "output_type": "stream",
     "text": [
      "Baseline: 67.5634%\n",
      "Parametrized model: 69.4081%\n"
     ]
    }
   ],
   "source": [
    "print('Baseline: %.4f%%' % (baseline_acc * 100))\n",
    "print('Parametrized model: %.4f%%' % (prob_model_acc * 100))"
   ]
  },
  {
   "cell_type": "code",
   "execution_count": null,
   "metadata": {},
   "outputs": [],
   "source": []
  }
 ],
 "metadata": {
  "colab": {
   "collapsed_sections": [],
   "name": "EDA.ipynb",
   "provenance": []
  },
  "kernelspec": {
   "display_name": "Python 3",
   "language": "python",
   "name": "python3"
  },
  "language_info": {
   "codemirror_mode": {
    "name": "ipython",
    "version": 3
   },
   "file_extension": ".py",
   "mimetype": "text/x-python",
   "name": "python",
   "nbconvert_exporter": "python",
   "pygments_lexer": "ipython3",
   "version": "3.7.3"
  }
 },
 "nbformat": 4,
 "nbformat_minor": 1
}
